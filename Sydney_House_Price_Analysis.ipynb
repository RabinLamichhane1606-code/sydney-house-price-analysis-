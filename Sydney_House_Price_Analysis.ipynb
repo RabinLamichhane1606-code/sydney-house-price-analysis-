{
 "cells": [
  {
   "cell_type": "markdown",
   "id": "a71feb12",
   "metadata": {},
   "source": [
    "# Sydney House Price Analysis\n",
    "Author: Rabin Lamichhane"
   ]
  },
  {
   "cell_type": "code",
   "execution_count": null,
   "id": "dd1a24f4",
   "metadata": {},
   "outputs": [],
   "source": [
    "import pandas as pd\n",
    "import matplotlib.pyplot as plt\n",
    "import seaborn as sns\n",
    "from sklearn.model_selection import train_test_split\n",
    "from sklearn.linear_model import LinearRegression\n",
    "from sklearn.metrics import mean_squared_error"
   ]
  },
  {
   "cell_type": "code",
   "execution_count": null,
   "id": "3e779eac",
   "metadata": {},
   "outputs": [],
   "source": [
    "# Load dataset\n",
    "df = pd.read_csv(\"NSW_property_sales.csv\")"
   ]
  },
  {
   "cell_type": "code",
   "execution_count": null,
   "id": "a078dc3d",
   "metadata": {},
   "outputs": [],
   "source": [
    "# Quick overview\n",
    "print(\"Dataset Info:\")\n",
    "print(df.info())\n",
    "print(\"\\nColumns:\")\n",
    "print(df.columns)\n",
    "print(\"\\nSample data:\")\n",
    "print(df.head())"
   ]
  },
  {
   "cell_type": "code",
   "execution_count": null,
   "id": "6a504778",
   "metadata": {},
   "outputs": [],
   "source": [
    "# Filter Sydney suburbs\n",
    "sydney_suburbs = [\n",
    "    'Sydney', 'Parramatta', 'Blacktown', 'Strathfield',\n",
    "    'Liverpool', 'Penrith', 'Auburn', 'Bankstown',\n",
    "    'Hornsby', 'Ryde', 'Canterbury', 'Hurstville'\n",
    "]\n",
    "df_sydney = df[df['suburb'].isin(sydney_suburbs)].copy()\n",
    "print(f\"\\nNumber of Sydney suburb records: {df_sydney.shape[0]}\")"
   ]
  },
  {
   "cell_type": "code",
   "execution_count": null,
   "id": "e1b5443f",
   "metadata": {},
   "outputs": [],
   "source": [
    "# Clean data\n",
    "df_sydney = df_sydney.dropna(subset=['sale_price', 'bedrooms', 'bathrooms'])"
   ]
  },
  {
   "cell_type": "code",
   "execution_count": null,
   "id": "9e58e2bd",
   "metadata": {},
   "outputs": [],
   "source": [
    "# EDA - Average price per suburb\n",
    "avg_price = df_sydney.groupby('suburb')['sale_price'].mean().sort_values(ascending=False)\n",
    "plt.figure(figsize=(10,5))\n",
    "sns.barplot(x=avg_price.index, y=avg_price.values)\n",
    "plt.title('Average Sale Price per Sydney Suburb')\n",
    "plt.ylabel('Average Sale Price ($)')\n",
    "plt.xticks(rotation=45)\n",
    "plt.tight_layout()\n",
    "plt.show()"
   ]
  },
  {
   "cell_type": "code",
   "execution_count": null,
   "id": "7951ff97",
   "metadata": {},
   "outputs": [],
   "source": [
    "# Distribution of sale prices\n",
    "plt.figure(figsize=(8,5))\n",
    "sns.histplot(df_sydney['sale_price'], bins=50, kde=True)\n",
    "plt.title('Distribution of Sale Prices')\n",
    "plt.xlabel('Sale Price ($)')\n",
    "plt.tight_layout()\n",
    "plt.show()"
   ]
  },
  {
   "cell_type": "code",
   "execution_count": null,
   "id": "e5e369da",
   "metadata": {},
   "outputs": [],
   "source": [
    "# Bedrooms distribution\n",
    "plt.figure(figsize=(8,5))\n",
    "sns.countplot(x='bedrooms', data=df_sydney)\n",
    "plt.title('Number of Bedrooms Distribution')\n",
    "plt.tight_layout()\n",
    "plt.show()"
   ]
  },
  {
   "cell_type": "code",
   "execution_count": null,
   "id": "eebfc7a9",
   "metadata": {},
   "outputs": [],
   "source": [
    "# Prepare data for modeling\n",
    "features = ['bedrooms', 'bathrooms']\n",
    "X = df_sydney[features]\n",
    "y = df_sydney['sale_price']\n",
    "\n",
    "X_train, X_test, y_train, y_test = train_test_split(\n",
    "    X, y, test_size=0.2, random_state=42\n",
    ")"
   ]
  },
  {
   "cell_type": "code",
   "execution_count": null,
   "id": "565474e0",
   "metadata": {},
   "outputs": [],
   "source": [
    "# Train Linear Regression Model\n",
    "model = LinearRegression()\n",
    "model.fit(X_train, y_train)"
   ]
  },
  {
   "cell_type": "code",
   "execution_count": null,
   "id": "1ea9d6da",
   "metadata": {},
   "outputs": [],
   "source": [
    "# Predict and evaluate\n",
    "y_pred = model.predict(X_test)\n",
    "rmse = mean_squared_error(y_test, y_pred, squared=False)\n",
    "print(f\"Root Mean Squared Error on test set: ${rmse:,.2f}\")"
   ]
  },
  {
   "cell_type": "code",
   "execution_count": null,
   "id": "f4a45f07",
   "metadata": {},
   "outputs": [],
   "source": [
    "# Plot predicted vs actual prices\n",
    "plt.figure(figsize=(8,6))\n",
    "plt.scatter(y_test, y_pred, alpha=0.3)\n",
    "plt.xlabel('Actual Sale Price')\n",
    "plt.ylabel('Predicted Sale Price')\n",
    "plt.title('Actual vs Predicted Sale Prices')\n",
    "plt.plot([y_test.min(), y_test.max()], [y_test.min(), y_test.max()], 'r--')\n",
    "plt.tight_layout()\n",
    "plt.show()"
   ]
  }
 ],
 "metadata": {},
 "nbformat": 4,
 "nbformat_minor": 5
}
