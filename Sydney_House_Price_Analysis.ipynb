# Sydney House Price Analysis
# Author: Rabin Lamichhane

import pandas as pd
import matplotlib.pyplot as plt
import seaborn as sns
from sklearn.model_selection import train_test_split
from sklearn.linear_model import LinearRegression
from sklearn.metrics import mean_squared_error

# Step 1: Load the dataset
df = pd.read_csv("NSW_property_sales.csv")

# Step 2: Quick overview
print("Dataset Info:")
print(df.info())
print("\nColumns:")
print(df.columns)
print("\nSample data:")
print(df.head())

# Step 3: Filter Sydney suburbs
sydney_suburbs = [
    'Sydney', 'Parramatta', 'Blacktown', 'Strathfield',
    'Liverpool', 'Penrith', 'Auburn', 'Bankstown',
    'Hornsby', 'Ryde', 'Canterbury', 'Hurstville'
]

df_sydney = df[df['suburb'].isin(sydney_suburbs)].copy()

print(f"\nNumber of Sydney suburb records: {df_sydney.shape[0]}")

# Step 4: Clean data - drop rows with missing sale_price, bedrooms, bathrooms
df_sydney = df_sydney.dropna(subset=['sale_price', 'bedrooms', 'bathrooms'])

# Step 5: Exploratory Data Analysis (EDA)

## Average sale price per suburb
avg_price = df_sydney.groupby('suburb')['sale_price'].mean().sort_values(ascending=False)
plt.figure(figsize=(10,5))
sns.barplot(x=avg_price.index, y=avg_price.values)
plt.title('Average Sale Price per Sydney Suburb')
plt.ylabel('Average Sale Price ($)')
plt.xticks(rotation=45)
plt.tight_layout()
plt.show()

## Distribution of sale prices
plt.figure(figsize=(8,5))
sns.histplot(df_sydney['sale_price'], bins=50, kde=True)
plt.title('Distribution of Sale Prices')
plt.xlabel('Sale Price ($)')
plt.tight_layout()
plt.show()

## Bedrooms distribution
plt.figure(figsize=(8,5))
sns.countplot(x='bedrooms', data=df_sydney)
plt.title('Number of Bedrooms Distribution')
plt.tight_layout()
plt.show()

# Step 6: Prepare data for modeling
features = ['bedrooms', 'bathrooms']
X = df_sydney[features]
y = df_sydney['sale_price']

# Split dataset
X_train, X_test, y_train, y_test = train_test_split(
    X, y, test_size=0.2, random_state=42
)

# Step 7: Train Linear Regression Model
model = LinearRegression()
model.fit(X_train, y_train)

# Step 8: Predict and evaluate
y_pred = model.predict(X_test)
rmse = mean_squared_error(y_test, y_pred, squared=False)
print(f"Root Mean Squared Error on test set: ${rmse:,.2f}")

# Step 9: Plot predicted vs actual prices
plt.figure(figsize=(8,6))
plt.scatter(y_test, y_pred, alpha=0.3)
plt.xlabel('Actual Sale Price')
plt.ylabel('Predicted Sale Price')
plt.title('Actual vs Predicted Sale Prices')
plt.plot([y_test.min(), y_test.max()], [y_test.min(), y_test.max()], 'r--')
plt.tight_layout()
plt.show()
